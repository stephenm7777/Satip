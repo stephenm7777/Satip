{
 "cells": [
  {
   "cell_type": "code",
   "execution_count": null,
   "id": "9ef1fff3-5f1c-4d1f-bfd7-a20d1ba08600",
   "metadata": {},
   "outputs": [
    {
     "name": "stdout",
     "output_type": "stream",
     "text": [
      "Collecting goes2go\n",
      "  Downloading goes2go-2023.8.0-py3-none-any.whl.metadata (13 kB)\n",
      "Collecting cartopy>=0.22.0 (from goes2go)\n",
      "  Downloading Cartopy-0.22.0-cp311-cp311-manylinux_2_17_x86_64.manylinux2014_x86_64.whl.metadata (15 kB)\n",
      "Collecting h5netcdf (from goes2go)\n",
      "  Downloading h5netcdf-1.3.0-py3-none-any.whl.metadata (13 kB)\n",
      "Requirement already satisfied: matplotlib in /home/vboxuser/anaconda3/lib/python3.11/site-packages (from goes2go) (3.8.0)\n",
      "Collecting metpy (from goes2go)\n",
      "  Downloading MetPy-1.6.1-py3-none-any.whl.metadata (8.7 kB)\n",
      "Requirement already satisfied: numpy in /home/vboxuser/anaconda3/lib/python3.11/site-packages (from goes2go) (1.26.4)\n",
      "Requirement already satisfied: pandas in /home/vboxuser/anaconda3/lib/python3.11/site-packages (from goes2go) (2.1.4)\n",
      "Requirement already satisfied: s3fs>=2023.6.0 in /home/vboxuser/anaconda3/lib/python3.11/site-packages (from goes2go) (2023.10.0)\n",
      "Requirement already satisfied: toml in /home/vboxuser/anaconda3/lib/python3.11/site-packages (from goes2go) (0.10.2)\n",
      "Requirement already satisfied: xarray in /home/vboxuser/anaconda3/lib/python3.11/site-packages (from goes2go) (2023.6.0)\n",
      "Collecting shapely>=1.7 (from cartopy>=0.22.0->goes2go)\n",
      "  Downloading shapely-2.0.3-cp311-cp311-manylinux_2_17_x86_64.manylinux2014_x86_64.whl.metadata (7.0 kB)\n",
      "Requirement already satisfied: packaging>=20 in /home/vboxuser/anaconda3/lib/python3.11/site-packages (from cartopy>=0.22.0->goes2go) (23.1)\n",
      "Collecting pyshp>=2.1 (from cartopy>=0.22.0->goes2go)\n",
      "  Downloading pyshp-2.3.1-py2.py3-none-any.whl.metadata (55 kB)\n",
      "\u001b[2K     \u001b[38;2;114;156;31m━━━━━━━━━━━━━━━━━━━━━━━━━━━━━━━━━━━━━━━\u001b[0m \u001b[32m56.0/56.0 kB\u001b[0m \u001b[31m635.1 kB/s\u001b[0m eta \u001b[36m0:00:00\u001b[0mMB/s\u001b[0m eta \u001b[36m0:00:01\u001b[0m\n",
      "\u001b[?25hCollecting pyproj>=3.1.0 (from cartopy>=0.22.0->goes2go)\n",
      "  Downloading pyproj-3.6.1-cp311-cp311-manylinux_2_17_x86_64.manylinux2014_x86_64.whl.metadata (31 kB)\n",
      "Requirement already satisfied: contourpy>=1.0.1 in /home/vboxuser/anaconda3/lib/python3.11/site-packages (from matplotlib->goes2go) (1.2.0)\n",
      "Requirement already satisfied: cycler>=0.10 in /home/vboxuser/anaconda3/lib/python3.11/site-packages (from matplotlib->goes2go) (0.11.0)\n",
      "Requirement already satisfied: fonttools>=4.22.0 in /home/vboxuser/anaconda3/lib/python3.11/site-packages (from matplotlib->goes2go) (4.25.0)\n",
      "Requirement already satisfied: kiwisolver>=1.0.1 in /home/vboxuser/anaconda3/lib/python3.11/site-packages (from matplotlib->goes2go) (1.4.4)\n",
      "Requirement already satisfied: pillow>=6.2.0 in /home/vboxuser/anaconda3/lib/python3.11/site-packages (from matplotlib->goes2go) (10.2.0)\n",
      "Requirement already satisfied: pyparsing>=2.3.1 in /home/vboxuser/anaconda3/lib/python3.11/site-packages (from matplotlib->goes2go) (3.0.9)\n",
      "Requirement already satisfied: python-dateutil>=2.7 in /home/vboxuser/anaconda3/lib/python3.11/site-packages (from matplotlib->goes2go) (2.8.2)\n",
      "Requirement already satisfied: aiobotocore~=2.7.0 in /home/vboxuser/anaconda3/lib/python3.11/site-packages (from s3fs>=2023.6.0->goes2go) (2.7.0)\n",
      "Requirement already satisfied: fsspec==2023.10.0 in /home/vboxuser/anaconda3/lib/python3.11/site-packages (from s3fs>=2023.6.0->goes2go) (2023.10.0)\n",
      "Requirement already satisfied: aiohttp!=4.0.0a0,!=4.0.0a1 in /home/vboxuser/anaconda3/lib/python3.11/site-packages (from s3fs>=2023.6.0->goes2go) (3.9.3)\n",
      "Requirement already satisfied: h5py in /home/vboxuser/anaconda3/lib/python3.11/site-packages (from h5netcdf->goes2go) (3.9.0)\n",
      "Collecting pint>=0.17 (from metpy->goes2go)\n",
      "  Downloading Pint-0.23-py3-none-any.whl.metadata (8.1 kB)\n",
      "Collecting pooch>=1.2.0 (from metpy->goes2go)\n",
      "  Downloading pooch-1.8.1-py3-none-any.whl.metadata (9.5 kB)\n",
      "Requirement already satisfied: scipy>=1.8.0 in /home/vboxuser/anaconda3/lib/python3.11/site-packages (from metpy->goes2go) (1.11.4)\n",
      "Requirement already satisfied: traitlets>=5.0.5 in /home/vboxuser/anaconda3/lib/python3.11/site-packages (from metpy->goes2go) (5.7.1)\n",
      "Requirement already satisfied: pytz>=2020.1 in /home/vboxuser/anaconda3/lib/python3.11/site-packages (from pandas->goes2go) (2023.3.post1)\n",
      "Requirement already satisfied: tzdata>=2022.1 in /home/vboxuser/anaconda3/lib/python3.11/site-packages (from pandas->goes2go) (2023.3)\n",
      "Requirement already satisfied: botocore<1.31.65,>=1.31.16 in /home/vboxuser/anaconda3/lib/python3.11/site-packages (from aiobotocore~=2.7.0->s3fs>=2023.6.0->goes2go) (1.31.64)\n",
      "Requirement already satisfied: wrapt<2.0.0,>=1.10.10 in /home/vboxuser/anaconda3/lib/python3.11/site-packages (from aiobotocore~=2.7.0->s3fs>=2023.6.0->goes2go) (1.14.1)\n",
      "Requirement already satisfied: aioitertools<1.0.0,>=0.5.1 in /home/vboxuser/anaconda3/lib/python3.11/site-packages (from aiobotocore~=2.7.0->s3fs>=2023.6.0->goes2go) (0.7.1)\n",
      "Requirement already satisfied: aiosignal>=1.1.2 in /home/vboxuser/anaconda3/lib/python3.11/site-packages (from aiohttp!=4.0.0a0,!=4.0.0a1->s3fs>=2023.6.0->goes2go) (1.2.0)\n",
      "Requirement already satisfied: attrs>=17.3.0 in /home/vboxuser/anaconda3/lib/python3.11/site-packages (from aiohttp!=4.0.0a0,!=4.0.0a1->s3fs>=2023.6.0->goes2go) (23.1.0)\n",
      "Requirement already satisfied: frozenlist>=1.1.1 in /home/vboxuser/anaconda3/lib/python3.11/site-packages (from aiohttp!=4.0.0a0,!=4.0.0a1->s3fs>=2023.6.0->goes2go) (1.4.0)\n",
      "Requirement already satisfied: multidict<7.0,>=4.5 in /home/vboxuser/anaconda3/lib/python3.11/site-packages (from aiohttp!=4.0.0a0,!=4.0.0a1->s3fs>=2023.6.0->goes2go) (6.0.4)\n",
      "Requirement already satisfied: yarl<2.0,>=1.0 in /home/vboxuser/anaconda3/lib/python3.11/site-packages (from aiohttp!=4.0.0a0,!=4.0.0a1->s3fs>=2023.6.0->goes2go) (1.9.3)\n",
      "Requirement already satisfied: typing-extensions in /home/vboxuser/anaconda3/lib/python3.11/site-packages (from pint>=0.17->metpy->goes2go) (4.9.0)\n",
      "Requirement already satisfied: platformdirs>=2.5.0 in /home/vboxuser/anaconda3/lib/python3.11/site-packages (from pooch>=1.2.0->metpy->goes2go) (3.10.0)\n",
      "Requirement already satisfied: requests>=2.19.0 in /home/vboxuser/anaconda3/lib/python3.11/site-packages (from pooch>=1.2.0->metpy->goes2go) (2.31.0)\n",
      "Requirement already satisfied: certifi in /home/vboxuser/anaconda3/lib/python3.11/site-packages (from pyproj>=3.1.0->cartopy>=0.22.0->goes2go) (2024.2.2)\n",
      "Requirement already satisfied: six>=1.5 in /home/vboxuser/anaconda3/lib/python3.11/site-packages (from python-dateutil>=2.7->matplotlib->goes2go) (1.16.0)\n",
      "Requirement already satisfied: jmespath<2.0.0,>=0.7.1 in /home/vboxuser/anaconda3/lib/python3.11/site-packages (from botocore<1.31.65,>=1.31.16->aiobotocore~=2.7.0->s3fs>=2023.6.0->goes2go) (1.0.1)\n",
      "Requirement already satisfied: urllib3<2.1,>=1.25.4 in /home/vboxuser/anaconda3/lib/python3.11/site-packages (from botocore<1.31.65,>=1.31.16->aiobotocore~=2.7.0->s3fs>=2023.6.0->goes2go) (2.0.7)\n",
      "Requirement already satisfied: charset-normalizer<4,>=2 in /home/vboxuser/anaconda3/lib/python3.11/site-packages (from requests>=2.19.0->pooch>=1.2.0->metpy->goes2go) (2.0.4)\n",
      "Requirement already satisfied: idna<4,>=2.5 in /home/vboxuser/anaconda3/lib/python3.11/site-packages (from requests>=2.19.0->pooch>=1.2.0->metpy->goes2go) (3.4)\n",
      "Downloading goes2go-2023.8.0-py3-none-any.whl (36 kB)\n",
      "Downloading Cartopy-0.22.0-cp311-cp311-manylinux_2_17_x86_64.manylinux2014_x86_64.whl (11.9 MB)\n",
      "\u001b[2K   \u001b[38;2;249;38;114m━━━━━━━━━━━━━━━━━━━━━━━━━━━━\u001b[0m\u001b[38;5;237m╺\u001b[0m\u001b[38;5;237m━━━━━━━━━━━\u001b[0m \u001b[32m8.4/11.9 MB\u001b[0m \u001b[31m8.8 MB/s\u001b[0m eta \u001b[36m0:00:01\u001b[0m:01\u001b[0m"
     ]
    }
   ],
   "source": [
    "!pip install goes2go\n"
   ]
  },
  {
   "cell_type": "code",
   "execution_count": null,
   "id": "eef75bc8-4b7d-489e-8c20-b74657492d09",
   "metadata": {},
   "outputs": [],
   "source": []
  }
 ],
 "metadata": {
  "kernelspec": {
   "display_name": "Python 3 (ipykernel)",
   "language": "python",
   "name": "python3"
  },
  "language_info": {
   "codemirror_mode": {
    "name": "ipython",
    "version": 3
   },
   "file_extension": ".py",
   "mimetype": "text/x-python",
   "name": "python",
   "nbconvert_exporter": "python",
   "pygments_lexer": "ipython3",
   "version": "3.11.7"
  }
 },
 "nbformat": 4,
 "nbformat_minor": 5
}
