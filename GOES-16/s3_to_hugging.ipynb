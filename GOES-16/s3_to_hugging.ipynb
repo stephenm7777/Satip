{
 "cells": [
  {
   "cell_type": "code",
   "execution_count": null,
   "id": "2b6aa20a-29bb-4980-a1d9-e7c879d76a01",
   "metadata": {},
   "outputs": [],
   "source": [
    "from kerchunk.hdf import SingleHdf5ToZarr \n",
    "from kerchunk.combine import MultiZarrToZarr\n",
    "import xarray as xr\n",
    "import numpy as np\n",
    "import matplotlib.pyplot as plt\n",
    "import s3fs\n",
    "import datetime as dt\n",
    "import logging\n",
    "import fsspec\n",
    "import ujson\n",
    "from tqdm import tqdm\n",
    "from glob import glob\n",
    "!pip install --upgrade kerchunk"
   ]
  },
  {
   "cell_type": "code",
   "execution_count": 5,
   "id": "30475cf1-41a8-469b-a6f5-26161af2e0ab",
   "metadata": {},
   "outputs": [
    {
     "name": "stdout",
     "output_type": "stream",
     "text": [
      "Collecting kerchunk\n",
      "  Downloading kerchunk-0.2.3-py3-none-any.whl.metadata (4.3 kB)\n",
      "Requirement already satisfied: fsspec in /home/vboxuser/anaconda3/lib/python3.11/site-packages (from kerchunk) (2023.10.0)\n",
      "Collecting numcodecs<=0.11 (from kerchunk)\n",
      "  Downloading numcodecs-0.11.0-cp311-cp311-manylinux_2_17_x86_64.manylinux2014_x86_64.whl.metadata (2.7 kB)\n",
      "Requirement already satisfied: numpy in /home/vboxuser/anaconda3/lib/python3.11/site-packages (from kerchunk) (1.26.4)\n",
      "Requirement already satisfied: ujson in /home/vboxuser/anaconda3/lib/python3.11/site-packages (from kerchunk) (5.4.0)\n",
      "Collecting zarr (from kerchunk)\n",
      "  Downloading zarr-2.17.0-py3-none-any.whl.metadata (5.7 kB)\n",
      "Requirement already satisfied: entrypoints in /home/vboxuser/anaconda3/lib/python3.11/site-packages (from numcodecs<=0.11->kerchunk) (0.4)\n",
      "Collecting asciitree (from zarr->kerchunk)\n",
      "  Downloading asciitree-0.3.3.tar.gz (4.0 kB)\n",
      "  Preparing metadata (setup.py) ... \u001b[?25ldone\n",
      "\u001b[?25hCollecting fasteners (from zarr->kerchunk)\n",
      "  Downloading fasteners-0.19-py3-none-any.whl.metadata (4.9 kB)\n",
      "Downloading kerchunk-0.2.3-py3-none-any.whl (3.3 MB)\n",
      "\u001b[2K   \u001b[38;2;114;156;31m━━━━━━━━━━━━━━━━━━━━━━━━━━━━━━━━━━━━━━━━\u001b[0m \u001b[32m3.3/3.3 MB\u001b[0m \u001b[31m5.7 MB/s\u001b[0m eta \u001b[36m0:00:00\u001b[0mm eta \u001b[36m0:00:01\u001b[0m0:01\u001b[0m:01\u001b[0m\n",
      "\u001b[?25hDownloading numcodecs-0.11.0-cp311-cp311-manylinux_2_17_x86_64.manylinux2014_x86_64.whl (6.7 MB)\n",
      "\u001b[2K   \u001b[38;2;114;156;31m━━━━━━━━━━━━━━━━━━━━━━━━━━━━━━━━━━━━━━━━\u001b[0m \u001b[32m6.7/6.7 MB\u001b[0m \u001b[31m14.7 MB/s\u001b[0m eta \u001b[36m0:00:00\u001b[0m MB/s\u001b[0m eta \u001b[36m0:00:01\u001b[0m:01\u001b[0m\n",
      "\u001b[?25hDownloading zarr-2.17.0-py3-none-any.whl (207 kB)\n",
      "\u001b[2K   \u001b[38;2;114;156;31m━━━━━━━━━━━━━━━━━━━━━━━━━━━━━━━━━━━━━━━━\u001b[0m \u001b[32m207.5/207.5 kB\u001b[0m \u001b[31m2.1 MB/s\u001b[0m eta \u001b[36m0:00:00\u001b[0m[31m34.6 MB/s\u001b[0m eta \u001b[36m0:00:01\u001b[0m\n",
      "\u001b[?25hDownloading fasteners-0.19-py3-none-any.whl (18 kB)\n",
      "Building wheels for collected packages: asciitree\n",
      "  Building wheel for asciitree (setup.py) ... \u001b[?25ldone\n",
      "\u001b[?25h  Created wheel for asciitree: filename=asciitree-0.3.3-py3-none-any.whl size=5034 sha256=72e051ca224601ba638462c7015d352aa464916643c67137f230da92f836ab06\n",
      "  Stored in directory: /home/vboxuser/.cache/pip/wheels/71/c1/da/23077eb3b87d24d6f3852ed1ed1a1ac2d3c885ad6ebd2b4a07\n",
      "Successfully built asciitree\n",
      "Installing collected packages: asciitree, numcodecs, fasteners, zarr, kerchunk\n",
      "Successfully installed asciitree-0.3.3 fasteners-0.19 kerchunk-0.2.3 numcodecs-0.11.0 zarr-2.17.0\n"
     ]
    }
   ],
   "source": [
    "!pip install --upgrade kerchunk"
   ]
  },
  {
   "cell_type": "code",
   "execution_count": null,
   "id": "8786dfa7-b823-457c-8f10-1ddd45ad07b2",
   "metadata": {},
   "outputs": [],
   "source": []
  },
  {
   "cell_type": "code",
   "execution_count": null,
   "id": "8203d2b7-a0cb-4ec9-8482-216131faf152",
   "metadata": {},
   "outputs": [],
   "source": []
  }
 ],
 "metadata": {
  "kernelspec": {
   "display_name": "Python 3 (ipykernel)",
   "language": "python",
   "name": "python3"
  },
  "language_info": {
   "codemirror_mode": {
    "name": "ipython",
    "version": 3
   },
   "file_extension": ".py",
   "mimetype": "text/x-python",
   "name": "python",
   "nbconvert_exporter": "python",
   "pygments_lexer": "ipython3",
   "version": "3.11.7"
  }
 },
 "nbformat": 4,
 "nbformat_minor": 5
}
