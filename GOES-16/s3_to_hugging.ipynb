{
 "cells": [
  {
   "cell_type": "code",
   "execution_count": 23,
   "id": "3240c6ee-aba3-4b36-b867-728d3863bbeb",
   "metadata": {},
   "outputs": [],
   "source": [
    "from kerchunk.hdf import SingleHdf5ToZarr\n",
    "from kerchunk.combine import MultiZarrToZarr\n",
    "import xarray as xr\n",
    "import numpy as np\n",
    "import matplotlib.pyplot as plt\n",
    "import s3fs\n",
    "import datetime as dt\n",
    "import logging\n",
    "import fsspec\n",
    "import ujson\n",
    "from tqdm import tqdm\n",
    "from glob import glob\n",
    "import dask\n",
    "from dask.distributed import Client\n",
    "import pathlib"
   ]
  },
  {
   "cell_type": "code",
   "execution_count": 24,
   "id": "aa636175-b5e8-4646-b73a-dde321ace51c",
   "metadata": {},
   "outputs": [],
   "source": [
    "fs = fsspec.filesystem('s3', anon=True)"
   ]
  },
  {
   "cell_type": "code",
   "execution_count": 25,
   "id": "6ee386bf-c3b8-4ca6-b6c1-75b074ecc312",
   "metadata": {},
   "outputs": [],
   "source": [
    "urls = ['s3://' + f for f in fs.glob(\"s3://noaa-goes16/ABI-L2-SSTF/2020/210/*/*.nc\")]"
   ]
  },
  {
   "cell_type": "code",
   "execution_count": 26,
   "id": "38f5c17a-69be-4ccc-a825-d83b855b1f5d",
   "metadata": {},
   "outputs": [
    {
     "name": "stderr",
     "output_type": "stream",
     "text": [
      "/home/vboxuser/anaconda3/lib/python3.11/site-packages/distributed/node.py:182: UserWarning: Port 8787 is already in use.\n",
      "Perhaps you already have a cluster running?\n",
      "Hosting the HTTP server on port 34285 instead\n",
      "  warnings.warn(\n"
     ]
    }
   ],
   "source": [
    "client = Client(n_workers=8)"
   ]
  },
  {
   "cell_type": "code",
   "execution_count": 27,
   "id": "ae3a3285-bbee-4647-9072-180b9b11c0e9",
   "metadata": {},
   "outputs": [],
   "source": [
    "def gen_json(u):\n",
    "    so = dict(\n",
    "        mode=\"rb\", anon=True, default_fill_cache=False,\n",
    "        default_cache_type=\"none\"\n",
    "    )\n",
    "    with fsspec.open(u, **so) as inf:\n",
    "        h5chunks = SingleHdf5ToZarr(inf, u, inline_threshold=300)\n",
    "        with open(f\"jsons/{u.split('/')[-1]}.json\", 'wb') as outf:\n",
    "            outf.write(ujson.dumps(h5chunks.translate()).encode())"
   ]
  },
  {
   "cell_type": "code",
   "execution_count": 28,
   "id": "867f62ed-e08f-47dd-813b-03524ae4291e",
   "metadata": {},
   "outputs": [],
   "source": [
    "pathlib.Path('./jsons/').mkdir(exist_ok=True)"
   ]
  },
  {
   "cell_type": "code",
   "execution_count": null,
   "id": "984adf39-85a9-44fc-a78a-e1dd17d8a583",
   "metadata": {},
   "outputs": [],
   "source": [
    "dask.compute(*[dask.delayed(gen_json)(u) for u in urls])"
   ]
  },
  {
   "cell_type": "code",
   "execution_count": null,
   "id": "56bf9487-49c5-4a0b-896a-146202175074",
   "metadata": {},
   "outputs": [],
   "source": []
  }
 ],
 "metadata": {
  "kernelspec": {
   "display_name": "Python 3 (ipykernel)",
   "language": "python",
   "name": "python3"
  },
  "language_info": {
   "codemirror_mode": {
    "name": "ipython",
    "version": 3
   },
   "file_extension": ".py",
   "mimetype": "text/x-python",
   "name": "python",
   "nbconvert_exporter": "python",
   "pygments_lexer": "ipython3",
   "version": "3.11.7"
  }
 },
 "nbformat": 4,
 "nbformat_minor": 5
}
