{
 "cells": [
  {
   "cell_type": "code",
   "execution_count": 5,
   "id": "eef75bc8-4b7d-489e-8c20-b74657492d09",
   "metadata": {},
   "outputs": [],
   "source": [
    "import netCDF4"
   ]
  },
  {
   "cell_type": "code",
   "execution_count": null,
   "id": "d31b96b6-27fc-47cb-af59-20d02eb3040b",
   "metadata": {},
   "outputs": [],
   "source": [
    "file2read = netCDF4.Dataset(cwd+'\\filename.nc','r')"
   ]
  }
 ],
 "metadata": {
  "kernelspec": {
   "display_name": "Python 3 (ipykernel)",
   "language": "python",
   "name": "python3"
  },
  "language_info": {
   "codemirror_mode": {
    "name": "ipython",
    "version": 3
   },
   "file_extension": ".py",
   "mimetype": "text/x-python",
   "name": "python",
   "nbconvert_exporter": "python",
   "pygments_lexer": "ipython3",
   "version": "3.11.7"
  }
 },
 "nbformat": 4,
 "nbformat_minor": 5
}
